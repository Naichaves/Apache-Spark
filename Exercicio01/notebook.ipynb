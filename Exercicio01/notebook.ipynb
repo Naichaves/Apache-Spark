{
 "cells": [
  {
   "cell_type": "code",
   "execution_count": null,
   "id": "1fefe7c8",
   "metadata": {
    "vscode": {
     "languageId": "plaintext"
    }
   },
   "outputs": [],
   "source": [
    "from torch import touch\n",
    "import torch.nn as nn\n",
    "import matplotlib.pylot as pit\n",
    "import numpy as np \n",
    "import pandas as np\n",
    "import torch.ptim as otim\n",
    "\n",
    "#Gerar dados: 100 pontos entre 0 e 10\n",
    "def convert_celcius_to_farenheit(celcius):\n",
    "    return (1.8*celcius+32)\n",
    "\n",
    "temp_celcius = [-10,20,100] \n",
    "temp_farenheit = [convert_celcius_to_farenheit(temp)for temp in temp_celcius]\n",
    "def =pd.DataFrame({\"Celsius\": temp_celcius, \"Farenheit\": temp_farenheit})\n",
    " df"
   ]
  }
 ],
 "metadata": {
  "kernelspec": {
   "display_name": "Python 3",
   "language": "python",
   "name": "python3"
  },
  "language_info": {
   "codemirror_mode": {
    "name": "ipython",
    "version": 3
   },
   "file_extension": ".py",
   "mimetype": "text/x-python",
   "name": "python",
   "nbconvert_exporter": "python",
   "pygments_lexer": "ipython3",
   "version": "3.12.1"
  }
 },
 "nbformat": 4,
 "nbformat_minor": 5
}
