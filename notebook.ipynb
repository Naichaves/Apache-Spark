{
 "cells": [
  {
   "cell_type": "code",
   "execution_count": 4,
   "id": "878e9754",
   "metadata": {},
   "outputs": [
    {
     "name": "stdout",
     "output_type": "stream",
     "text": [
      "ola\n"
     ]
    }
   ],
   "source": [
    "print(\"ola\")"
   ]
  },
  {
   "cell_type": "code",
   "execution_count": 22,
   "id": "c4145781",
   "metadata": {},
   "outputs": [
    {
     "data": {
      "text/html": [
       "<div>\n",
       "<style scoped>\n",
       "    .dataframe tbody tr th:only-of-type {\n",
       "        vertical-align: middle;\n",
       "    }\n",
       "\n",
       "    .dataframe tbody tr th {\n",
       "        vertical-align: top;\n",
       "    }\n",
       "\n",
       "    .dataframe thead th {\n",
       "        text-align: right;\n",
       "    }\n",
       "</style>\n",
       "<table border=\"1\" class=\"dataframe\">\n",
       "  <thead>\n",
       "    <tr style=\"text-align: right;\">\n",
       "      <th></th>\n",
       "      <th>Celsius</th>\n",
       "      <th>Farenheit</th>\n",
       "    </tr>\n",
       "  </thead>\n",
       "  <tbody>\n",
       "    <tr>\n",
       "      <th>0</th>\n",
       "      <td>-10</td>\n",
       "      <td>14.0</td>\n",
       "    </tr>\n",
       "    <tr>\n",
       "      <th>1</th>\n",
       "      <td>20</td>\n",
       "      <td>68.0</td>\n",
       "    </tr>\n",
       "    <tr>\n",
       "      <th>2</th>\n",
       "      <td>100</td>\n",
       "      <td>212.0</td>\n",
       "    </tr>\n",
       "  </tbody>\n",
       "</table>\n",
       "</div>"
      ],
      "text/plain": [
       "   Celsius  Farenheit\n",
       "0      -10       14.0\n",
       "1       20       68.0\n",
       "2      100      212.0"
      ]
     },
     "execution_count": 22,
     "metadata": {},
     "output_type": "execute_result"
    }
   ],
   "source": [
    "from torch import torch\n",
    "import torch.nn as nn\n",
    "import matplotlib.pyplot as plt\n",
    "import numpy as np \n",
    "import pandas as pd\n",
    "import torch.optim as otim\n",
    "\n",
    "#Gerar dados: 100 pontos entre 0 e 10\n",
    "def convert_celcius_to_farenheit(celcius):\n",
    "    return (1.8*celcius+32)\n",
    "\n",
    "temp_celcius = [-10,20,100] \n",
    "temp_farenheit = [convert_celcius_to_farenheit(temp)for temp in temp_celcius]\n",
    "df =pd.DataFrame({\"Celsius\": temp_celcius, \"Farenheit\": temp_farenheit})\n",
    "df"
   ]
  },
  {
   "cell_type": "code",
   "execution_count": 10,
   "id": "d20e3886",
   "metadata": {},
   "outputs": [],
   "source": [
    "x = torch.FloatTensor(df.Celsius.values.astype(float))\n",
    "y = torch.FloatTensor(df.Farenheit.values.astype(float))\n",
    "y = y.unsqueeze(1)"
   ]
  },
  {
   "cell_type": "code",
   "execution_count": 23,
   "id": "970e556c",
   "metadata": {},
   "outputs": [],
   "source": [
    "class Model(nn.Module):\n",
    "    def __init__(self):\n",
    "        super().__init__()\n",
    "        self.linear = nn.Linear(in_features=1, out_features=1, bias=True) # 1 input feature, 1 output feature\n",
    "\n",
    "    def forward(self, x):\n",
    "        return self.linear(x)   "
   ]
  },
  {
   "cell_type": "code",
   "execution_count": 24,
   "id": "10a6d556",
   "metadata": {},
   "outputs": [],
   "source": [
    "EPOCHS = 1000\n",
    "LR = 0.2"
   ]
  },
  {
   "cell_type": "code",
   "execution_count": 25,
   "id": "05adae52",
   "metadata": {},
   "outputs": [],
   "source": [
    "model = Model()\n",
    "criterion = nn.MSELoss()\n",
    "optimizer = torch.optim.Adam(params=model.parameters(), lr=LR)\n",
    "\n",
    "x = x.view(x.size(0),-1) #Reshape x to be a 2D tensor with one column\n"
   ]
  },
  {
   "cell_type": "code",
   "execution_count": 26,
   "id": "fe1d6866",
   "metadata": {},
   "outputs": [
    {
     "name": "stdout",
     "output_type": "stream",
     "text": [
      "Peso:1.80 Bias:31.99\n"
     ]
    },
    {
     "data": {
      "text/plain": [
       "[<matplotlib.lines.Line2D at 0x7376fd4b5d90>]"
      ]
     },
     "execution_count": 26,
     "metadata": {},
     "output_type": "execute_result"
    },
    {
     "data": {
      "image/png": "[encoded data removed]",
      "text/plain": [
       "<Figure size 640x480 with 1 Axes>"
      ]
     },
     "metadata": {},
     "output_type": "display_data"
    }
   ],
   "source": [
    "weights = []\n",
    "biases = []\n",
    "for epoch in range(EPOCHS):\n",
    "    outputs = model.forward(x)\n",
    "    loss = criterion(outputs, y)\n",
    "    optimizer.zero_grad()\n",
    "    loss.backward()\n",
    "\n",
    "    weights.append(model.linear.weight.item())\n",
    "    #print(f'Epoch {epoch+1}/{EPOCHS}, Loss: {loss.item():.4f}')\n",
    "    optimizer.step()\n",
    "    biases.append(model.linear.bias.item())\n",
    "print(f'Peso:{model.linear.weight.item():.2f} Bias:{model.linear.bias.item():.2f}')\n",
    "plt.plot(x, y, 'b-', label='Reta de Conversão') # 'b-' representa uma linha azul\n",
    "plt.plot(temp_celcius, temp_farenheit, 'ro', label='Dados Originais')\n"
   ]
  },
  {
   "cell_type": "code",
   "execution_count": 27,
   "id": "ece13303",
   "metadata": {},
   "outputs": [],
   "source": [
    "training_data = pd.DataFrame({\"Pesos\": weights, \"Bias\": biases})\n",
    "training_data.to_csv(\"training_data.csv\", index=False)"
   ]
  },
  {
   "cell_type": "code",
   "execution_count": 29,
   "id": "9a37e689",
   "metadata": {},
   "outputs": [
    {
     "name": "stdout",
     "output_type": "stream",
     "text": [
      "Valor predito: 176.00F\n",
      "Valor real: 176.00F\n"
     ]
    }
   ],
   "source": [
    "training_data.head()\n",
    "\n",
    "valor_para_prever = 80\n",
    "\n",
    "print(f'Valor predito: {model.forward(torch.FloatTensor([valor_para_prever])).item():.2f}F')\n",
    "print(f'Valor real: {convert_celcius_to_farenheit(valor_para_prever):.2f}F')"
   ]
  }
 ],
 "metadata": {
  "kernelspec": {
   "display_name": "Python 3",
   "language": "python",
   "name": "python3"
  },
  "language_info": {
   "codemirror_mode": {
    "name": "ipython",
    "version": 3
   },
   "file_extension": ".py",
   "mimetype": "text/x-python",
   "name": "python",
   "nbconvert_exporter": "python",
   "pygments_lexer": "ipython3",
   "version": "3.12.1"
  }
 },
 "nbformat": 4,
 "nbformat_minor": 5
}
